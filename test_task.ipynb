{
 "cells": [
  {
   "cell_type": "code",
   "execution_count": 1,
   "metadata": {
    "ExecuteTime": {
     "end_time": "2017-10-20T15:15:23.375747Z",
     "start_time": "2017-10-20T15:15:23.368267Z"
    }
   },
   "outputs": [],
   "source": [
    "import pandas as pd\n",
    "from datetime import timedelta\n",
    "from datetime import datetime\n",
    "import re\n",
    "import matplotlib\n",
    "import numpy as np\n",
    "import matplotlib.pyplot as plt\n",
    "%matplotlib inline "
   ]
  },
  {
   "cell_type": "code",
   "execution_count": 2,
   "metadata": {
    "ExecuteTime": {
     "end_time": "2017-10-20T16:11:33.483558Z",
     "start_time": "2017-10-20T16:11:31.432481Z"
    },
    "scrolled": false
   },
   "outputs": [
    {
     "name": "stderr",
     "output_type": "stream",
     "text": [
      "/home/laol/env3/lib/python3.5/site-packages/ipykernel_launcher.py:8: SettingWithCopyWarning: \n",
      "A value is trying to be set on a copy of a slice from a DataFrame\n",
      "\n",
      "See the caveats in the documentation: http://pandas.pydata.org/pandas-docs/stable/indexing.html#indexing-view-versus-copy\n",
      "  \n",
      "/home/laol/env3/lib/python3.5/site-packages/ipykernel_launcher.py:30: SettingWithCopyWarning: \n",
      "A value is trying to be set on a copy of a slice from a DataFrame\n",
      "\n",
      "See the caveats in the documentation: http://pandas.pydata.org/pandas-docs/stable/indexing.html#indexing-view-versus-copy\n",
      "/home/laol/env3/lib/python3.5/site-packages/ipykernel_launcher.py:31: SettingWithCopyWarning: \n",
      "A value is trying to be set on a copy of a slice from a DataFrame\n",
      "\n",
      "See the caveats in the documentation: http://pandas.pydata.org/pandas-docs/stable/indexing.html#indexing-view-versus-copy\n",
      "/home/laol/env3/lib/python3.5/site-packages/ipykernel_launcher.py:32: SettingWithCopyWarning: \n",
      "A value is trying to be set on a copy of a slice from a DataFrame\n",
      "\n",
      "See the caveats in the documentation: http://pandas.pydata.org/pandas-docs/stable/indexing.html#indexing-view-versus-copy\n"
     ]
    }
   ],
   "source": [
    "df = pd.read_csv('/home/laol/task/test_query_2017_10_20.csv')\n",
    "\n",
    "df.happened_at = pd.to_datetime(df.happened_at)\n",
    "df = df. sort_values(['user_id', 'happened_at'])\n",
    "df.index = range(df.shape[0])\n",
    "df['first_in_session'] = df.user_id != df.user_id.shift(1)\n",
    "df['prev_happened_at'] = df.happened_at.shift(1)\n",
    "df.prev_happened_at[df.first_in_session] = None\n",
    "df['time_diff'] = df.happened_at - df.prev_happened_at\n",
    "df.first_in_session = df.first_in_session | (df.time_diff > timedelta(hours=1))\n",
    "\n",
    "\n",
    "counter = -1\n",
    "index = []\n",
    "for i in df.first_in_session:\n",
    "    if i:\n",
    "        counter += 1\n",
    "    index.append(counter)\n",
    "    \n",
    "df['session_id'] = pd.Series(index)\n",
    "del df['prev_happened_at']\n",
    "del df['time_diff']\n",
    "\n",
    "\n",
    "session = ['rooms.homework-showcase', \n",
    "           'rooms.view.step.content', \n",
    "           'rooms.lesson.rev.step.content']\n",
    "\n",
    "df['page_code'] = ''\n",
    "df.page_code[df.page=='rooms.homework-showcase'] = '1'\n",
    "df.page_code[df.page=='rooms.view.step.content'] = '2'\n",
    "df.page_code[df.page=='rooms.lesson.rev.step.content'] = '3'\n",
    "\n",
    "session_code = df.groupby('session_id')['page_code'].sum()\n",
    "\n",
    "def check_session(string):\n",
    "    pattern = re.compile(\"[23]*1[13]*2[12]*3[123]*\")\n",
    "    return pattern.match(string)\n",
    "result = session_code.apply(lambda x: True if check_session(x) else False)\n",
    "result = result.index[result]"
   ]
  },
  {
   "cell_type": "code",
   "execution_count": 3,
   "metadata": {},
   "outputs": [],
   "source": [
    "df_session = pd.DataFrame()\n",
    "df_session['start'] = (df.groupby('session_id')\n",
    "                       ['happened_at'].min())\n",
    "df_session['end'] = (df.groupby('session_id')\n",
    "                     ['happened_at'].max() + timedelta(hours=1))\n",
    "df_session = df_session.loc[result]\n",
    "df_session['length_session'] = df_session.end - df_session.start\n",
    "df_session['length_session_in_seconds'] = (df_session.length_session\n",
    "                                           .apply(lambda x: x.seconds))"
   ]
  },
  {
   "cell_type": "code",
   "execution_count": 4,
   "metadata": {
    "ExecuteTime": {
     "end_time": "2017-10-20T16:28:48.205126Z",
     "start_time": "2017-10-20T16:28:48.168661Z"
    },
    "scrolled": true
   },
   "outputs": [
    {
     "data": {
      "text/html": [
       "<div>\n",
       "<style>\n",
       "    .dataframe thead tr:only-child th {\n",
       "        text-align: right;\n",
       "    }\n",
       "\n",
       "    .dataframe thead th {\n",
       "        text-align: left;\n",
       "    }\n",
       "\n",
       "    .dataframe tbody tr th {\n",
       "        vertical-align: top;\n",
       "    }\n",
       "</style>\n",
       "<table border=\"1\" class=\"dataframe\">\n",
       "  <thead>\n",
       "    <tr style=\"text-align: right;\">\n",
       "      <th></th>\n",
       "      <th>user_id</th>\n",
       "      <th>page</th>\n",
       "      <th>happened_at</th>\n",
       "      <th>first_in_session</th>\n",
       "      <th>session_id</th>\n",
       "      <th>page_code</th>\n",
       "    </tr>\n",
       "  </thead>\n",
       "  <tbody>\n",
       "    <tr>\n",
       "      <th>0</th>\n",
       "      <td>1209</td>\n",
       "      <td>rooms.homework-showcase</td>\n",
       "      <td>2017-03-01 11:17:10.596</td>\n",
       "      <td>True</td>\n",
       "      <td>0</td>\n",
       "      <td>1</td>\n",
       "    </tr>\n",
       "    <tr>\n",
       "      <th>1</th>\n",
       "      <td>1209</td>\n",
       "      <td>rooms.student-showcase</td>\n",
       "      <td>2017-03-01 11:17:16.128</td>\n",
       "      <td>False</td>\n",
       "      <td>0</td>\n",
       "      <td></td>\n",
       "    </tr>\n",
       "    <tr>\n",
       "      <th>2</th>\n",
       "      <td>1978</td>\n",
       "      <td>rooms.view.step.content</td>\n",
       "      <td>2017-03-01 10:13:00.818</td>\n",
       "      <td>True</td>\n",
       "      <td>1</td>\n",
       "      <td>2</td>\n",
       "    </tr>\n",
       "    <tr>\n",
       "      <th>3</th>\n",
       "      <td>1978</td>\n",
       "      <td>rooms.homework-showcase</td>\n",
       "      <td>2017-03-01 10:42:09.250</td>\n",
       "      <td>False</td>\n",
       "      <td>1</td>\n",
       "      <td>1</td>\n",
       "    </tr>\n",
       "    <tr>\n",
       "      <th>4</th>\n",
       "      <td>1978</td>\n",
       "      <td>rooms.view.step.content</td>\n",
       "      <td>2017-03-01 10:42:15.389</td>\n",
       "      <td>False</td>\n",
       "      <td>1</td>\n",
       "      <td>2</td>\n",
       "    </tr>\n",
       "  </tbody>\n",
       "</table>\n",
       "</div>"
      ],
      "text/plain": [
       "   user_id                     page             happened_at  first_in_session  \\\n",
       "0     1209  rooms.homework-showcase 2017-03-01 11:17:10.596              True   \n",
       "1     1209   rooms.student-showcase 2017-03-01 11:17:16.128             False   \n",
       "2     1978  rooms.view.step.content 2017-03-01 10:13:00.818              True   \n",
       "3     1978  rooms.homework-showcase 2017-03-01 10:42:09.250             False   \n",
       "4     1978  rooms.view.step.content 2017-03-01 10:42:15.389             False   \n",
       "\n",
       "   session_id page_code  \n",
       "0           0         1  \n",
       "1           0            \n",
       "2           1         2  \n",
       "3           1         1  \n",
       "4           1         2  "
      ]
     },
     "execution_count": 4,
     "metadata": {},
     "output_type": "execute_result"
    }
   ],
   "source": [
    "df.head()"
   ]
  },
  {
   "cell_type": "code",
   "execution_count": 5,
   "metadata": {
    "scrolled": true
   },
   "outputs": [
    {
     "data": {
      "text/html": [
       "<div>\n",
       "<style>\n",
       "    .dataframe thead tr:only-child th {\n",
       "        text-align: right;\n",
       "    }\n",
       "\n",
       "    .dataframe thead th {\n",
       "        text-align: left;\n",
       "    }\n",
       "\n",
       "    .dataframe tbody tr th {\n",
       "        vertical-align: top;\n",
       "    }\n",
       "</style>\n",
       "<table border=\"1\" class=\"dataframe\">\n",
       "  <thead>\n",
       "    <tr style=\"text-align: right;\">\n",
       "      <th></th>\n",
       "      <th>length_session</th>\n",
       "      <th>length_session_in_seconds</th>\n",
       "    </tr>\n",
       "  </thead>\n",
       "  <tbody>\n",
       "    <tr>\n",
       "      <th>count</th>\n",
       "      <td>378</td>\n",
       "      <td>378.000000</td>\n",
       "    </tr>\n",
       "    <tr>\n",
       "      <th>mean</th>\n",
       "      <td>0 days 02:42:20.022076</td>\n",
       "      <td>9739.523810</td>\n",
       "    </tr>\n",
       "    <tr>\n",
       "      <th>std</th>\n",
       "      <td>0 days 00:59:36.319315</td>\n",
       "      <td>3576.291864</td>\n",
       "    </tr>\n",
       "    <tr>\n",
       "      <th>min</th>\n",
       "      <td>0 days 01:06:04.154000</td>\n",
       "      <td>3964.000000</td>\n",
       "    </tr>\n",
       "    <tr>\n",
       "      <th>25%</th>\n",
       "      <td>0 days 02:10:13.192500</td>\n",
       "      <td>7812.750000</td>\n",
       "    </tr>\n",
       "    <tr>\n",
       "      <th>50%</th>\n",
       "      <td>0 days 02:33:54.935000</td>\n",
       "      <td>9234.500000</td>\n",
       "    </tr>\n",
       "    <tr>\n",
       "      <th>75%</th>\n",
       "      <td>0 days 03:01:23.019750</td>\n",
       "      <td>10882.750000</td>\n",
       "    </tr>\n",
       "    <tr>\n",
       "      <th>max</th>\n",
       "      <td>0 days 15:03:55.970000</td>\n",
       "      <td>54235.000000</td>\n",
       "    </tr>\n",
       "  </tbody>\n",
       "</table>\n",
       "</div>"
      ],
      "text/plain": [
       "               length_session  length_session_in_seconds\n",
       "count                     378                 378.000000\n",
       "mean   0 days 02:42:20.022076                9739.523810\n",
       "std    0 days 00:59:36.319315                3576.291864\n",
       "min    0 days 01:06:04.154000                3964.000000\n",
       "25%    0 days 02:10:13.192500                7812.750000\n",
       "50%    0 days 02:33:54.935000                9234.500000\n",
       "75%    0 days 03:01:23.019750               10882.750000\n",
       "max    0 days 15:03:55.970000               54235.000000"
      ]
     },
     "execution_count": 5,
     "metadata": {},
     "output_type": "execute_result"
    }
   ],
   "source": [
    "df_session.describe()"
   ]
  },
  {
   "cell_type": "code",
   "execution_count": 6,
   "metadata": {
    "scrolled": true
   },
   "outputs": [
    {
     "data": {
      "image/png": "[encoded data removed]",
      "text/plain": [
       "<matplotlib.figure.Figure at 0x7f03535a6f60>"
      ]
     },
     "metadata": {},
     "output_type": "display_data"
    }
   ],
   "source": [
    "def chart(occurance_list):\n",
    "    hour_list = [t.hour for t in occurance_list]\n",
    "    numbers=[x for x in range(0,24)]\n",
    "    labels=map(lambda x: str(x), numbers)\n",
    "    plt.xticks(numbers, labels)\n",
    "    plt.xlim(0,24)\n",
    "    plt.hist(hour_list)\n",
    "    plt.title('Время начала сессии')\n",
    "    plt.show()\n",
    "chart(df_session.start)"
   ]
  },
  {
   "cell_type": "code",
   "execution_count": 7,
   "metadata": {
    "scrolled": true
   },
   "outputs": [
    {
     "data": {
      "text/plain": [
       "<matplotlib.text.Text at 0x7f0353418f60>"
      ]
     },
     "execution_count": 7,
     "metadata": {},
     "output_type": "execute_result"
    },
    {
     "data": {
      "image/png": "[encoded data removed]",
      "text/plain": [
       "<matplotlib.figure.Figure at 0x7f03534ebc88>"
      ]
     },
     "metadata": {},
     "output_type": "display_data"
    }
   ],
   "source": [
    "df_session.length_session_in_seconds.hist(bins=100)\n",
    "plt.title('Гистограмма продолжительности сессий')"
   ]
  },
  {
   "cell_type": "markdown",
   "metadata": {},
   "source": [
    "Есть 2 странные, длинные сессии, и эти две сессии принадлежат одному пользователю"
   ]
  },
  {
   "cell_type": "code",
   "execution_count": 8,
   "metadata": {
    "scrolled": true
   },
   "outputs": [
    {
     "data": {
      "text/html": [
       "<div>\n",
       "<style>\n",
       "    .dataframe thead tr:only-child th {\n",
       "        text-align: right;\n",
       "    }\n",
       "\n",
       "    .dataframe thead th {\n",
       "        text-align: left;\n",
       "    }\n",
       "\n",
       "    .dataframe tbody tr th {\n",
       "        vertical-align: top;\n",
       "    }\n",
       "</style>\n",
       "<table border=\"1\" class=\"dataframe\">\n",
       "  <thead>\n",
       "    <tr style=\"text-align: right;\">\n",
       "      <th></th>\n",
       "      <th>start</th>\n",
       "      <th>end</th>\n",
       "      <th>length_session</th>\n",
       "      <th>length_session_in_seconds</th>\n",
       "    </tr>\n",
       "    <tr>\n",
       "      <th>session_id</th>\n",
       "      <th></th>\n",
       "      <th></th>\n",
       "      <th></th>\n",
       "      <th></th>\n",
       "    </tr>\n",
       "  </thead>\n",
       "  <tbody>\n",
       "    <tr>\n",
       "      <th>1869</th>\n",
       "      <td>2017-03-01 00:22:48.286</td>\n",
       "      <td>2017-03-01 15:26:44.256</td>\n",
       "      <td>15:03:55.970000</td>\n",
       "      <td>54235</td>\n",
       "    </tr>\n",
       "    <tr>\n",
       "      <th>1870</th>\n",
       "      <td>2017-03-01 16:22:50.513</td>\n",
       "      <td>2017-03-02 00:26:31.308</td>\n",
       "      <td>08:03:40.795000</td>\n",
       "      <td>29020</td>\n",
       "    </tr>\n",
       "  </tbody>\n",
       "</table>\n",
       "</div>"
      ],
      "text/plain": [
       "                             start                     end  length_session  \\\n",
       "session_id                                                                   \n",
       "1869       2017-03-01 00:22:48.286 2017-03-01 15:26:44.256 15:03:55.970000   \n",
       "1870       2017-03-01 16:22:50.513 2017-03-02 00:26:31.308 08:03:40.795000   \n",
       "\n",
       "            length_session_in_seconds  \n",
       "session_id                             \n",
       "1869                            54235  \n",
       "1870                            29020  "
      ]
     },
     "execution_count": 8,
     "metadata": {},
     "output_type": "execute_result"
    }
   ],
   "source": [
    "df_session[df_session.length_session_in_seconds > 25000]"
   ]
  },
  {
   "cell_type": "code",
   "execution_count": 9,
   "metadata": {},
   "outputs": [],
   "source": [
    "count_activity = df.groupby('session_id')['page_code'].count() "
   ]
  },
  {
   "cell_type": "markdown",
   "metadata": {},
   "source": [
    "Также есть сессии с подозрительно высокой активностью"
   ]
  },
  {
   "cell_type": "code",
   "execution_count": 10,
   "metadata": {},
   "outputs": [
    {
     "data": {
      "text/plain": [
       "session_id\n",
       "1869    336\n",
       "2358    408\n",
       "2360    408\n",
       "2364    612\n",
       "Name: page_code, dtype: int64"
      ]
     },
     "execution_count": 10,
     "metadata": {},
     "output_type": "execute_result"
    }
   ],
   "source": [
    "count_activity[count_activity > 300]"
   ]
  },
  {
   "cell_type": "markdown",
   "metadata": {},
   "source": [
    "Причем, сессия, которая является длинной, также является высокоактивной - ее id - **1869**"
   ]
  }
 ],
 "metadata": {
  "kernelspec": {
   "display_name": "Python 3",
   "language": "python",
   "name": "python3"
  },
  "language_info": {
   "codemirror_mode": {
    "name": "ipython",
    "version": 3
   },
   "file_extension": ".py",
   "mimetype": "text/x-python",
   "name": "python",
   "nbconvert_exporter": "python",
   "pygments_lexer": "ipython3",
   "version": "3.5.3"
  },
  "toc": {
   "colors": {
    "hover_highlight": "#a5a8b8",
    "navigate_num": "#000000",
    "navigate_text": "#4c8be2",
    "running_highlight": "#efaa8e",
    "selected_highlight": "#8bc497",
    "sidebar_border": "#384152",
    "wrapper_background": "#303845"
   },
   "moveMenuLeft": true,
   "navigate_menu": false,
   "number_sections": true,
   "sideBar": true,
   "threshold": 4,
   "toc_cell": false,
   "toc_position": {
    "height": "2021px",
    "left": "0px",
    "right": "1661.77px",
    "top": "90px",
    "width": "218px"
   },
   "toc_section_display": "block",
   "toc_window_display": true,
   "widenNotebook": false
  }
 },
 "nbformat": 4,
 "nbformat_minor": 2
}
